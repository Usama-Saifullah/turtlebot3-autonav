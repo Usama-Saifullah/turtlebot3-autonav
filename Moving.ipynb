{
 "cells": [
  {
   "cell_type": "code",
   "execution_count": 1,
   "id": "eccb1a3b",
   "metadata": {},
   "outputs": [],
   "source": [
    "%%bash --bg\n",
    "# Cell 1: launch ROS master + sim time\n",
    "roscore & sleep 3\n",
    "rosparam set /use_sim_time true   # must be before any node :contentReference[oaicite:2]{index=2}\n"
   ]
  },
  {
   "cell_type": "code",
   "execution_count": 2,
   "id": "9b352e5d",
   "metadata": {},
   "outputs": [],
   "source": [
    "%%bash --bg\n",
    "# Cell 2: Gazebo TurtleBot3 world (waffle)\n",
    "export TURTLEBOT3_MODEL=waffle\n",
    "roslaunch turtlebot3_gazebo turtlebot3_world.launch use_sim_time:=true   # :contentReference[oaicite:3]{index=3}\n"
   ]
  },
  {
   "cell_type": "code",
   "execution_count": 3,
   "id": "afe4346a",
   "metadata": {},
   "outputs": [],
   "source": [
    "%%bash --bg\n",
    "# Cell 3: serve the static map\n",
    "rosrun map_server map_server \\\n",
    "  \"$(rospack find turtlebot3_navigation)/maps/map.yaml\" \\\n",
    "  _use_sim_time:=true   # \n"
   ]
  },
  {
   "cell_type": "code",
   "execution_count": 4,
   "id": "24f8e032",
   "metadata": {},
   "outputs": [],
   "source": [
    "%%bash --bg\n",
    "# Cell 4: optional keyboard teleop\n",
    "export TURTLEBOT3_MODEL=waffle\n",
    "roslaunch turtlebot3_teleop turtlebot3_teleop_key.launch  # :contentReference[oaicite:4]{index=4}\n"
   ]
  },
  {
   "cell_type": "code",
   "execution_count": 5,
   "id": "bf322f83",
   "metadata": {},
   "outputs": [],
   "source": [
    "# Cell 5: AutonomousNavigator (with fixed occupancy check)\n",
    "import rospy, random, math\n",
    "from nav_msgs.msg import OccupancyGrid, Odometry\n",
    "from sensor_msgs.msg import LaserScan\n",
    "from geometry_msgs.msg import Twist\n",
    "import tf.transformations as tft\n",
    "\n",
    "class AutonomousNavigator:\n",
    "    def __init__(self):\n",
    "        rospy.init_node('autonomous_navigator', anonymous=False)  # no use_sim_time arg :contentReference[oaicite:5]{index=5}\n",
    "        rospy.loginfo(\"Node started\")\n",
    "        rospy.loginfo(\"Waiting for /map...\")\n",
    "        self.map_msg = rospy.wait_for_message('/map', OccupancyGrid)\n",
    "        rospy.loginfo(\"Map received\")\n",
    "        self.width  = self.map_msg.info.width\n",
    "        self.height = self.map_msg.info.height\n",
    "        self.res    = self.map_msg.info.resolution\n",
    "        self.origin = self.map_msg.info.origin.position\n",
    "        self.occ    = list(self.map_msg.data)\n",
    "        self.cmd_pub = rospy.Publisher('/cmd_vel', Twist, queue_size=1)\n",
    "        rospy.Subscriber('/scan', LaserScan, self.check_and_avoid)\n",
    "        rospy.Subscriber('/odom', Odometry, self.odom_callback)\n",
    "        self.odom = None\n",
    "        self.avoiding = False\n",
    "        self.rate = rospy.Rate(5)\n",
    "\n",
    "    def odom_callback(self, msg):\n",
    "        self.odom = msg.pose.pose\n",
    "\n",
    "    def compute_path(self, start, goal):\n",
    "        \"\"\"A* on 8‐connected grid, only allowing truly free cells (0).\"\"\"\n",
    "        def h(a,b): return math.hypot(a[0]-b[0], a[1]-b[1])\n",
    "        dirs = [(-1,0),(1,0),(0,-1),(0,1),(-1,-1),(-1,1),(1,-1),(1,1)]\n",
    "        open_set = {start: 0}\n",
    "        came_from = {}\n",
    "        g_score = {start: 0}\n",
    "        f_score = {start: h(start,goal)}\n",
    "        while open_set:\n",
    "            current = min(open_set, key=open_set.get)\n",
    "            if current == goal:\n",
    "                # reconstruct\n",
    "                path=[]\n",
    "                while current in came_from:\n",
    "                    path.append(current)\n",
    "                    current = came_from[current]\n",
    "                return path[::-1]\n",
    "            open_set.pop(current)\n",
    "            for dx, dy in dirs:\n",
    "                nbx, nby = current[0] + dx, current[1] + dy\n",
    "                if not (0 <= nbx < self.width and 0 <= nby < self.height):\n",
    "                    continue\n",
    "                idx = nby * self.width + nbx\n",
    "                if self.occ[idx] != 0:\n",
    "                    continue\n",
    "                tentative = g_score[current] + math.hypot(dx, dy)\n",
    "    # Correct membership check using a tuple key:\n",
    "                if (nbx, nby) not in g_score or tentative < g_score[(nbx, nby)]:\n",
    "                    came_from[(nbx, nby)] = current\n",
    "                    g_score[(nbx, nby)]     = tentative\n",
    "                    f_score[(nbx, nby)]     = tentative + h((nbx, nby), goal)\n",
    "                    open_set[(nbx, nby)]    = f_score[(nbx, nby)]\n",
    "\n",
    "        return []\n",
    "\n",
    "    def check_and_avoid(self, scan):\n",
    "        if not self.odom: return\n",
    "        ang_min,inc = scan.angle_min, scan.angle_increment\n",
    "        center = int((0-ang_min)/inc)\n",
    "        span   = int(math.radians(20)/inc)\n",
    "        sector = scan.ranges[max(0,center-span): center+span]\n",
    "        if sector and min(sector) < 0.5:\n",
    "            cmd=Twist()\n",
    "            cmd.angular.z = random.choice([-0.6,0.6])\n",
    "            self.cmd_pub.publish(cmd)\n",
    "            self.avoiding = True\n",
    "\n",
    "    def goto_waypoint(self, wp):\n",
    "        if not self.odom: return False\n",
    "        px,py = self.odom.position.x, self.odom.position.y\n",
    "        ori   = self.odom.orientation\n",
    "        _,_,yaw = tft.euler_from_quaternion([ori.x,ori.y,ori.z,ori.w])\n",
    "        goal_yaw = math.atan2(wp[1]-py, wp[0]-px)\n",
    "        err = (goal_yaw-yaw+math.pi)%(2*math.pi)-math.pi\n",
    "        cmd=Twist()\n",
    "        if abs(err)>0.1:\n",
    "            cmd.angular.z = 0.5*(1 if err>0 else -1)\n",
    "        else:\n",
    "            dist = math.hypot(wp[0]-px, wp[1]-py)\n",
    "            if dist>0.1: cmd.linear.x=0.2\n",
    "            else: return True\n",
    "        self.cmd_pub.publish(cmd)\n",
    "        return False\n",
    "\n",
    "    def world_to_grid(self, x,y):\n",
    "        return (int((x-self.origin.x)/self.res),\n",
    "                int((y-self.origin.y)/self.res))\n",
    "\n",
    "    def start(self):\n",
    "        while not self.odom and not rospy.is_shutdown():\n",
    "            self.rate.sleep()\n",
    "        # use centre of map for goal\n",
    "        goal = (self.width//2, self.height//2)\n",
    "        start = self.world_to_grid(self.odom.position.x,\n",
    "                                   self.odom.position.y)\n",
    "        rospy.loginfo(f\"Planning from {start} to {goal}\")\n",
    "        path = self.compute_path(start, goal)\n",
    "        rospy.loginfo(f\"Path length: {len(path)} waypoints\")\n",
    "        idx = 0\n",
    "        while not rospy.is_shutdown() and idx < len(path):\n",
    "            if self.avoiding:\n",
    "                self.rate.sleep()\n",
    "                continue\n",
    "            gx,gy = path[idx]\n",
    "            wx = gx*self.res + self.origin.x + self.res/2\n",
    "            wy = gy*self.res + self.origin.y + self.res/2\n",
    "            if self.goto_waypoint((wx,wy)):\n",
    "                idx+=1\n",
    "                rospy.loginfo(f\"Reached {idx}/{len(path)}\")\n",
    "            self.rate.sleep()\n"
   ]
  },
  {
   "cell_type": "code",
   "execution_count": 6,
   "id": "d7170285",
   "metadata": {},
   "outputs": [
    {
     "name": "stdout",
     "output_type": "stream",
     "text": [
      "[INFO] [1745705222.302887, 0.000000]: Node started\n",
      "[INFO] [1745705222.305185, 0.000000]: Waiting for /map...\n",
      "[INFO] [1745705222.452842, 14.799000]: Map received\n"
     ]
    }
   ],
   "source": [
    "# Instantiate the navigator so 'nav' exists in this kernel\n",
    "nav = AutonomousNavigator()\n"
   ]
  },
  {
   "cell_type": "code",
   "execution_count": 7,
   "id": "be020eab",
   "metadata": {},
   "outputs": [
    {
     "name": "stdout",
     "output_type": "stream",
     "text": [
      "Start grid: (159, 190), occ value: 0\n",
      "Goal  grid: (192, 192), occ value: 0\n",
      "Test path: [(160, 190), (161, 190), (162, 190), (163, 190), (164, 190), (165, 190), (166, 190), (167, 190), (168, 190), (169, 190), (170, 190), (171, 190), (172, 190), (173, 190), (174, 190), (175, 190), (176, 190), (177, 190), (178, 190), (179, 190), (180, 190), (181, 190), (182, 190), (183, 190), (184, 190), (185, 190), (186, 190), (187, 190), (188, 190), (189, 191), (190, 191), (191, 191), (192, 192)]\n"
     ]
    }
   ],
   "source": [
    "# Cell 6: debug grid indices & occupancy\n",
    "# assume nav = AutonomousNavigator() has been instantiated\n",
    "start = nav.world_to_grid(nav.odom.position.x, nav.odom.position.y)\n",
    "goal  = (nav.width//2, nav.height//2)  # centre of map\n",
    "\n",
    "start_idx = start[1]*nav.width + start[0]\n",
    "goal_idx  = goal[1]*nav.width + goal[0]\n",
    "\n",
    "print(f\"Start grid: {start}, occ value: {nav.occ[start_idx]}\")\n",
    "print(f\"Goal  grid: {goal }, occ value: {nav.occ[ goal_idx]}\")\n",
    "\n",
    "test_path = nav.compute_path(start, goal)\n",
    "print(\"Test path:\", test_path)\n"
   ]
  },
  {
   "cell_type": "code",
   "execution_count": 8,
   "id": "3843270c",
   "metadata": {},
   "outputs": [
    {
     "name": "stdout",
     "output_type": "stream",
     "text": [
      "[INFO] [1745705263.319690, 37.054000]: Node started\n",
      "[INFO] [1745705263.335950, 37.069000]: Waiting for /map...\n",
      "[INFO] [1745705263.511749, 37.165000]: Map received\n"
     ]
    },
    {
     "name": "stdout",
     "output_type": "stream",
     "text": [
      "[INFO] [1745705263.960540, 37.386000]: Planning from (160, 190) to (192, 192)\n",
      "[INFO] [1745705263.989563, 37.399000]: Path length: 32 waypoints\n",
      "[INFO] [1745705265.591570, 37.986000]: Reached 1/32\n",
      "[INFO] [1745705271.345654, 39.986000]: Reached 2/32\n",
      "[INFO] [1745705273.473290, 40.786000]: Reached 3/32\n",
      "[INFO] [1745705276.754740, 41.989000]: Reached 4/32\n",
      "[INFO] [1745705280.546742, 43.387000]: Reached 5/32\n",
      "[INFO] [1745705282.292858, 43.986000]: Reached 6/32\n",
      "[INFO] [1745705285.185421, 45.186000]: Reached 7/32\n",
      "[INFO] [1745705288.480567, 46.386000]: Reached 8/32\n",
      "[INFO] [1745705288.996281, 46.586000]: Reached 9/32\n",
      "[INFO] [1745705289.442341, 46.786000]: Reached 10/32\n",
      "[INFO] [1745705290.329969, 47.186000]: Reached 11/32\n",
      "[INFO] [1745705290.762758, 47.391000]: Reached 12/32\n",
      "[INFO] [1745705291.321111, 47.586000]: Reached 13/32\n",
      "[INFO] [1745705291.839249, 47.786000]: Reached 14/32\n",
      "[INFO] [1745705292.745815, 48.186000]: Reached 15/32\n",
      "[INFO] [1745705293.126734, 48.386000]: Reached 16/32\n",
      "[INFO] [1745705293.621684, 48.586000]: Reached 17/32\n",
      "[INFO] [1745705294.204028, 48.787000]: Reached 18/32\n",
      "[INFO] [1745705295.054811, 49.186000]: Reached 19/32\n",
      "[INFO] [1745705295.493157, 49.386000]: Reached 20/32\n",
      "[INFO] [1745705295.970352, 49.590000]: Reached 21/32\n",
      "[INFO] [1745705296.452464, 49.786000]: Reached 22/32\n",
      "[INFO] [1745705297.422005, 50.186000]: Reached 23/32\n",
      "[INFO] [1745705297.935763, 50.386000]: Reached 24/32\n",
      "[INFO] [1745705298.515337, 50.586000]: Reached 25/32\n",
      "[INFO] [1745705299.039508, 50.787000]: Reached 26/32\n",
      "[INFO] [1745705300.130521, 51.187000]: Reached 27/32\n",
      "[INFO] [1745705300.699035, 51.386000]: Reached 28/32\n",
      "[INFO] [1745705309.916793, 54.987000]: Reached 29/32\n",
      "[INFO] [1745705313.812982, 56.586000]: Reached 30/32\n",
      "[INFO] [1745705318.100393, 58.388000]: Reached 31/32\n"
     ]
    },
    {
     "ename": "KeyboardInterrupt",
     "evalue": "",
     "output_type": "error",
     "traceback": [
      "\u001b[0;31m---------------------------------------------------------------------------\u001b[0m",
      "\u001b[0;31mKeyboardInterrupt\u001b[0m                         Traceback (most recent call last)",
      "Cell \u001b[0;32mIn[8], line 4\u001b[0m\n\u001b[1;32m      2\u001b[0m \u001b[38;5;28;01mif\u001b[39;00m \u001b[38;5;18m__name__\u001b[39m \u001b[38;5;241m==\u001b[39m \u001b[38;5;124m'\u001b[39m\u001b[38;5;124m__main__\u001b[39m\u001b[38;5;124m'\u001b[39m:\n\u001b[1;32m      3\u001b[0m     nav \u001b[38;5;241m=\u001b[39m AutonomousNavigator()\n\u001b[0;32m----> 4\u001b[0m     \u001b[43mnav\u001b[49m\u001b[38;5;241;43m.\u001b[39;49m\u001b[43mstart\u001b[49m\u001b[43m(\u001b[49m\u001b[43m)\u001b[49m\n",
      "Cell \u001b[0;32mIn[5], line 111\u001b[0m, in \u001b[0;36mAutonomousNavigator.start\u001b[0;34m(self)\u001b[0m\n\u001b[1;32m    109\u001b[0m \u001b[38;5;28;01mwhile\u001b[39;00m \u001b[38;5;129;01mnot\u001b[39;00m rospy\u001b[38;5;241m.\u001b[39mis_shutdown() \u001b[38;5;129;01mand\u001b[39;00m idx \u001b[38;5;241m<\u001b[39m \u001b[38;5;28mlen\u001b[39m(path):\n\u001b[1;32m    110\u001b[0m     \u001b[38;5;28;01mif\u001b[39;00m \u001b[38;5;28mself\u001b[39m\u001b[38;5;241m.\u001b[39mavoiding:\n\u001b[0;32m--> 111\u001b[0m         \u001b[38;5;28;43mself\u001b[39;49m\u001b[38;5;241;43m.\u001b[39;49m\u001b[43mrate\u001b[49m\u001b[38;5;241;43m.\u001b[39;49m\u001b[43msleep\u001b[49m\u001b[43m(\u001b[49m\u001b[43m)\u001b[49m\n\u001b[1;32m    112\u001b[0m         \u001b[38;5;28;01mcontinue\u001b[39;00m\n\u001b[1;32m    113\u001b[0m     gx,gy \u001b[38;5;241m=\u001b[39m path[idx]\n",
      "File \u001b[0;32m/opt/ros/noetic/lib/python3/dist-packages/rospy/timer.py:103\u001b[0m, in \u001b[0;36mRate.sleep\u001b[0;34m(self)\u001b[0m\n\u001b[1;32m    101\u001b[0m curr_time \u001b[38;5;241m=\u001b[39m rospy\u001b[38;5;241m.\u001b[39mrostime\u001b[38;5;241m.\u001b[39mget_rostime()\n\u001b[1;32m    102\u001b[0m \u001b[38;5;28;01mtry\u001b[39;00m:\n\u001b[0;32m--> 103\u001b[0m     \u001b[43msleep\u001b[49m\u001b[43m(\u001b[49m\u001b[38;5;28;43mself\u001b[39;49m\u001b[38;5;241;43m.\u001b[39;49m\u001b[43m_remaining\u001b[49m\u001b[43m(\u001b[49m\u001b[43mcurr_time\u001b[49m\u001b[43m)\u001b[49m\u001b[43m)\u001b[49m\n\u001b[1;32m    104\u001b[0m \u001b[38;5;28;01mexcept\u001b[39;00m rospy\u001b[38;5;241m.\u001b[39mexceptions\u001b[38;5;241m.\u001b[39mROSTimeMovedBackwardsException:\n\u001b[1;32m    105\u001b[0m     \u001b[38;5;28;01mif\u001b[39;00m \u001b[38;5;129;01mnot\u001b[39;00m \u001b[38;5;28mself\u001b[39m\u001b[38;5;241m.\u001b[39m_reset:\n",
      "File \u001b[0;32m/opt/ros/noetic/lib/python3/dist-packages/rospy/timer.py:156\u001b[0m, in \u001b[0;36msleep\u001b[0;34m(duration)\u001b[0m\n\u001b[1;32m    151\u001b[0m sleep_t \u001b[38;5;241m=\u001b[39m initial_rostime \u001b[38;5;241m+\u001b[39m duration\n\u001b[1;32m    153\u001b[0m \u001b[38;5;66;03m# break loop if sleep_t is reached, time moves backwards, or\u001b[39;00m\n\u001b[1;32m    154\u001b[0m \u001b[38;5;66;03m# node is shutdown\u001b[39;00m\n\u001b[1;32m    155\u001b[0m \u001b[38;5;28;01mwhile\u001b[39;00m rospy\u001b[38;5;241m.\u001b[39mrostime\u001b[38;5;241m.\u001b[39mget_rostime() \u001b[38;5;241m<\u001b[39m sleep_t \u001b[38;5;129;01mand\u001b[39;00m \\\n\u001b[0;32m--> 156\u001b[0m       \u001b[43mrospy\u001b[49m\u001b[38;5;241;43m.\u001b[39;49m\u001b[43mrostime\u001b[49m\u001b[38;5;241;43m.\u001b[39;49m\u001b[43mget_rostime\u001b[49m\u001b[43m(\u001b[49m\u001b[43m)\u001b[49m\u001b[43m \u001b[49m\u001b[38;5;241;43m>\u001b[39;49m\u001b[38;5;241;43m=\u001b[39;49m\u001b[43m \u001b[49m\u001b[43minitial_rostime\u001b[49m \u001b[38;5;129;01mand\u001b[39;00m \\\n\u001b[1;32m    157\u001b[0m           \u001b[38;5;129;01mnot\u001b[39;00m rospy\u001b[38;5;241m.\u001b[39mcore\u001b[38;5;241m.\u001b[39mis_shutdown():\n\u001b[1;32m    158\u001b[0m     \u001b[38;5;28;01mwith\u001b[39;00m rostime_cond:\n\u001b[1;32m    159\u001b[0m         rostime_cond\u001b[38;5;241m.\u001b[39mwait(\u001b[38;5;241m0.5\u001b[39m)\n",
      "File \u001b[0;32m/opt/ros/noetic/lib/python3/dist-packages/genpy/rostime.py:169\u001b[0m, in \u001b[0;36mTVal.__ge__\u001b[0;34m(self, other)\u001b[0m\n\u001b[1;32m    167\u001b[0m \u001b[38;5;28;01mdef\u001b[39;00m\u001b[38;5;250m \u001b[39m\u001b[38;5;21m__ge__\u001b[39m(\u001b[38;5;28mself\u001b[39m, other):\n\u001b[1;32m    168\u001b[0m \u001b[38;5;250m    \u001b[39m\u001b[38;5;124;03m\"\"\">= test for time values.\"\"\"\u001b[39;00m\n\u001b[0;32m--> 169\u001b[0m     \u001b[38;5;28;01mtry\u001b[39;00m:\n\u001b[1;32m    170\u001b[0m         \u001b[38;5;28;01mreturn\u001b[39;00m \u001b[38;5;28mself\u001b[39m\u001b[38;5;241m.\u001b[39m__cmp__(other) \u001b[38;5;241m>\u001b[39m\u001b[38;5;241m=\u001b[39m \u001b[38;5;241m0\u001b[39m\n\u001b[1;32m    171\u001b[0m     \u001b[38;5;28;01mexcept\u001b[39;00m \u001b[38;5;167;01mTypeError\u001b[39;00m:\n",
      "\u001b[0;31mKeyboardInterrupt\u001b[0m: "
     ]
    }
   ],
   "source": [
    "# Cell 7: start navigation\n",
    "if __name__ == '__main__':\n",
    "    nav = AutonomousNavigator()\n",
    "    nav.start()\n"
   ]
  },
  {
   "cell_type": "code",
   "execution_count": null,
   "id": "7a145b99",
   "metadata": {},
   "outputs": [],
   "source": [
    "!rostopic list | grep -E \"/map|/scan|/odom|/cmd_vel|/clock\"\n"
   ]
  }
 ],
 "metadata": {
  "kernelspec": {
   "display_name": "Python 3",
   "language": "python",
   "name": "python3"
  },
  "language_info": {
   "codemirror_mode": {
    "name": "ipython",
    "version": 3
   },
   "file_extension": ".py",
   "mimetype": "text/x-python",
   "name": "python",
   "nbconvert_exporter": "python",
   "pygments_lexer": "ipython3",
   "version": "3.8.10"
  }
 },
 "nbformat": 4,
 "nbformat_minor": 5
}
