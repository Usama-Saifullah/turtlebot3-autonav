{
 "cells": [
  {
   "cell_type": "markdown",
   "id": "66b4b16b",
   "metadata": {},
   "source": [
    "# Automated TurtleBot3 ROS Project\n",
    "This notebook demonstrates an automated workflow for a TurtleBot3 project on ROS Noetic. It includes:\n",
    "- Launching the Gazebo simulation\n",
    "- Starting a teleoperation node for manual control\n",
    "- Running a custom obstacle avoidance node\n",
    "\n",
    "Ensure you have sourced your ROS and Catkin workspace setup files before starting:\n"
   ]
  },
  {
   "cell_type": "code",
   "execution_count": 3,
   "id": "31cc7ae5",
   "metadata": {},
   "outputs": [],
   "source": [
    "%%bash\n",
    "source /opt/ros/noetic/setup.bash\n",
    "source ~/catkin_ws/devel/setup.bash\n"
   ]
  },
  {
   "cell_type": "code",
   "execution_count": 4,
   "id": "9413a1ca",
   "metadata": {},
   "outputs": [],
   "source": [
    "import subprocess\n",
    "import time\n",
    "import os\n",
    "\n",
    "def launch_ros_node(package, launch_file):\n",
    "    \"\"\"\n",
    "    Launches a ROS node using roslaunch.\n",
    "    Returns the subprocess.Popen object.\n",
    "    \"\"\"\n",
    "    cmd = [\"roslaunch\", package, launch_file]\n",
    "    print(\"Launching:\", ' '.join(cmd))\n",
    "    proc = subprocess.Popen(cmd)\n",
    "    # Optionally, wait a bit to allow the node to come up.\n",
    "    time.sleep(10)\n",
    "    return proc\n"
   ]
  },
  {
   "cell_type": "code",
   "execution_count": 10,
   "id": "963eb6f4",
   "metadata": {},
   "outputs": [],
   "source": [
    "import subprocess\n",
    "import time\n",
    "\n",
    "def launch_ros_node(package, launch_file):\n",
    "    \"\"\"\n",
    "    Launches a ROS node using roslaunch.\n",
    "    Returns the subprocess.Popen object.\n",
    "    \"\"\"\n",
    "    cmd = [\"roslaunch\", package, launch_file]\n",
    "    print(\"Launching:\", ' '.join(cmd))\n",
    "    proc = subprocess.Popen(cmd)\n",
    "    # Allow some time for the node to initialize\n",
    "    time.sleep(10)\n",
    "    return proc\n",
    "    \n"
   ]
  },
  {
   "cell_type": "code",
   "execution_count": 12,
   "id": "13e91d90",
   "metadata": {},
   "outputs": [
    {
     "name": "stdout",
     "output_type": "stream",
     "text": [
      "Launching: roslaunch turtlebot3_gazebo turtlebot3_world.launch\n",
      "... logging to /home/saif/.ros/log/e5872bde-19dc-11f0-a0bc-63f049225a7b/roslaunch-saif-Latitude-7390-16032.log\n",
      "Checking log directory for disk usage. This may take a while.\n",
      "Press Ctrl-C to interrupt\n",
      "Done checking log file disk usage. Usage is <1GB.\n",
      "\u001b]2;/home/saif/catkin_ws/src/turtlebot3_simulations/turtlebot3_gazebo/launch/turtlebot3_world.launch\u0007\n"
     ]
    },
    {
     "name": "stderr",
     "output_type": "stream",
     "text": [
      "xacro: in-order processing became default in ROS Melodic. You can drop the option.\n",
      "error: substitution args not supported:  No module named 'rospkg'\n",
      "when processing file: /home/saif/catkin_ws/src/turtlebot3/turtlebot3_description/urdf/turtlebot3_burger.urdf.xacro\n",
      "\u001b[31mRLException: Invalid <param> tag: Cannot load command parameter [robot_description]: command [['/opt/ros/noetic/lib/xacro/xacro', '--inorder', '/home/saif/catkin_ws/src/turtlebot3/turtlebot3_description/urdf/turtlebot3_burger.urdf.xacro']] returned with code [2]. \n",
      "\n",
      "Param xml is <param name=\"robot_description\" command=\"$(find xacro)/xacro --inorder $(find turtlebot3_description)/urdf/turtlebot3_$(arg model).urdf.xacro\"/>\u001b[0m\n",
      "\u001b[31mThe traceback for the exception was written to the log file\u001b[0m\n"
     ]
    },
    {
     "name": "stdout",
     "output_type": "stream",
     "text": [
      "Gazebo simulation launched!\n"
     ]
    }
   ],
   "source": [
    "# Launch the TurtleBot3 Gazebo simulation\n",
    "sim_proc = launch_ros_node(\"turtlebot3_gazebo\", \"turtlebot3_world.launch\")\n",
    "print(\"Gazebo simulation launched!\")\n"
   ]
  },
  {
   "cell_type": "code",
   "execution_count": 11,
   "id": "f8398bed",
   "metadata": {},
   "outputs": [
    {
     "name": "stdout",
     "output_type": "stream",
     "text": [
      "Launching: roslaunch turtlebot3_gazebo turtlebot3_world.launch\n",
      "... logging to /home/saif/.ros/log/e5872bde-19dc-11f0-a0bc-63f049225a7b/roslaunch-saif-Latitude-7390-16017.log\n",
      "Checking log directory for disk usage. This may take a while.\n",
      "Press Ctrl-C to interrupt\n",
      "Done checking log file disk usage. Usage is <1GB.\n",
      "\u001b]2;/home/saif/catkin_ws/src/turtlebot3_simulations/turtlebot3_gazebo/launch/turtlebot3_world.launch\u0007\n"
     ]
    },
    {
     "name": "stderr",
     "output_type": "stream",
     "text": [
      "xacro: in-order processing became default in ROS Melodic. You can drop the option.\n",
      "error: substitution args not supported:  No module named 'rospkg'\n",
      "when processing file: /home/saif/catkin_ws/src/turtlebot3/turtlebot3_description/urdf/turtlebot3_burger.urdf.xacro\n",
      "\u001b[31mRLException: Invalid <param> tag: Cannot load command parameter [robot_description]: command [['/opt/ros/noetic/lib/xacro/xacro', '--inorder', '/home/saif/catkin_ws/src/turtlebot3/turtlebot3_description/urdf/turtlebot3_burger.urdf.xacro']] returned with code [2]. \n",
      "\n",
      "Param xml is <param name=\"robot_description\" command=\"$(find xacro)/xacro --inorder $(find turtlebot3_description)/urdf/turtlebot3_$(arg model).urdf.xacro\"/>\u001b[0m\n",
      "\u001b[31mThe traceback for the exception was written to the log file\u001b[0m\n"
     ]
    },
    {
     "name": "stdout",
     "output_type": "stream",
     "text": [
      "Gazebo simulation launched!\n"
     ]
    }
   ],
   "source": [
    "# Launch the TurtleBot3 Gazebo simulation\n",
    "sim_proc = launch_ros_node(\"turtlebot3_gazebo\", \"turtlebot3_world.launch\")\n",
    "print(\"Gazebo simulation launched!\")\n"
   ]
  },
  {
   "cell_type": "code",
   "execution_count": null,
   "id": "08e88da0",
   "metadata": {},
   "outputs": [],
   "source": []
  },
  {
   "cell_type": "code",
   "execution_count": 6,
   "id": "d2d1516a",
   "metadata": {},
   "outputs": [
    {
     "name": "stdout",
     "output_type": "stream",
     "text": [
      "Launching: roslaunch turtlebot3_teleop turtlebot3_teleop_key.launch\n",
      "... logging to /home/saif/.ros/log/e5872bde-19dc-11f0-a0bc-63f049225a7b/roslaunch-saif-Latitude-7390-15967.log\n",
      "Checking log directory for disk usage. This may take a while.\n",
      "Press Ctrl-C to interrupt\n",
      "Done checking log file disk usage. Usage is <1GB.\n",
      "\u001b]2;/home/saif/catkin_ws/src/turtlebot3/turtlebot3_teleop/launch/turtlebot3_teleop_key.launch\u0007\n",
      "\u001b[1mstarted roslaunch server http://saif-Latitude-7390:41637/\u001b[0m\n",
      "\n",
      "SUMMARY\n",
      "========\n",
      "\n",
      "PARAMETERS\n",
      " * /model: burger\n",
      " * /rosdistro: noetic\n",
      " * /rosversion: 1.17.0\n",
      "\n",
      "NODES\n",
      "  /\n",
      "    turtlebot3_teleop_keyboard (turtlebot3_teleop/turtlebot3_teleop_key)\n",
      "\n",
      "\u001b[1mROS_MASTER_URI=http://localhost:11311\u001b[0m\n",
      "\u001b]2;/home/saif/catkin_ws/src/turtlebot3/turtlebot3_teleop/launch/turtlebot3_teleop_key.launch http://localhost:11311\u0007\n",
      "\u001b[1mprocess[turtlebot3_teleop_keyboard-1]: started with pid [15981]\u001b[0m\n"
     ]
    },
    {
     "name": "stderr",
     "output_type": "stream",
     "text": [
      "Traceback (most recent call last):\n",
      "  File \"/home/saif/catkin_ws/devel/lib/turtlebot3_teleop/turtlebot3_teleop_key\", line 15, in <module>\n",
      "    exec(compile(fh.read(), python_script, 'exec'), context)\n",
      "  File \"/home/saif/catkin_ws/src/turtlebot3/turtlebot3_teleop/nodes/turtlebot3_teleop_key\", line 135, in <module>\n",
      "    settings = termios.tcgetattr(sys.stdin)\n",
      "termios.error: (25, 'Inappropriate ioctl for device')\n",
      "\u001b[31m[turtlebot3_teleop_keyboard-1] process has died [pid 15981, exit code 1, cmd /home/saif/catkin_ws/devel/lib/turtlebot3_teleop/turtlebot3_teleop_key __name:=turtlebot3_teleop_keyboard __log:=/home/saif/.ros/log/e5872bde-19dc-11f0-a0bc-63f049225a7b/turtlebot3_teleop_keyboard-1.log].\n",
      "log file: /home/saif/.ros/log/e5872bde-19dc-11f0-a0bc-63f049225a7b/turtlebot3_teleop_keyboard-1*.log\u001b[0m\n"
     ]
    },
    {
     "name": "stdout",
     "output_type": "stream",
     "text": [
      "all processes on machine have died, roslaunch will exit\n",
      "shutting down processing monitor...\n",
      "... shutting down processing monitor complete\n",
      "\u001b[1mdone\u001b[0m\n",
      "Teleoperation node launched. Click inside its window for keyboard control.\n"
     ]
    }
   ],
   "source": [
    "# Launch the keyboard teleop node for manual control\n",
    "# Note: The teleop node requires keyboard focus. It might open in the same terminal.\n",
    "teleop_proc = launch_ros_node(\"turtlebot3_teleop\", \"turtlebot3_teleop_key.launch\")\n",
    "print(\"Teleoperation node launched. Click inside its window for keyboard control.\")\n"
   ]
  }
 ],
 "metadata": {
  "kernelspec": {
   "display_name": ".venv",
   "language": "python",
   "name": "python3"
  },
  "language_info": {
   "codemirror_mode": {
    "name": "ipython",
    "version": 3
   },
   "file_extension": ".py",
   "mimetype": "text/x-python",
   "name": "python",
   "nbconvert_exporter": "python",
   "pygments_lexer": "ipython3",
   "version": "3.8.10"
  }
 },
 "nbformat": 4,
 "nbformat_minor": 5
}
