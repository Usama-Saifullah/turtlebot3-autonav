{
 "cells": [
  {
   "cell_type": "code",
   "execution_count": 1,
   "id": "44f8694a",
   "metadata": {},
   "outputs": [],
   "source": [
    "import rospy\n",
    "from sensor_msgs.msg import LaserScan\n",
    "from geometry_msgs.msg import Twist\n"
   ]
  },
  {
   "cell_type": "code",
   "execution_count": 2,
   "id": "16c90e4f",
   "metadata": {},
   "outputs": [],
   "source": [
    "class ObstacleAvoidance:\n",
    "    def __init__(self):\n",
    "        rospy.init_node('obstacle_avoidance', anonymous=True)\n",
    "        self.cmd_vel_pub = rospy.Publisher('/cmd_vel', Twist, queue_size=10)\n",
    "        rospy.Subscriber('/scan', LaserScan, self.laser_callback)\n",
    "        self.move_cmd = Twist()\n",
    "        self.rate = rospy.Rate(10)\n",
    "\n",
    "    def laser_callback(self, data):\n",
    "        front = min(min(data.ranges[0:10] + data.ranges[-10:]), 10)\n",
    "        left = min(min(data.ranges[80:100]), 10)\n",
    "        right = min(min(data.ranges[260:280]), 10)\n",
    "        threshold = 0.5\n",
    "\n",
    "        if front < threshold:\n",
    "            if left > right:\n",
    "                self.move_cmd.linear.x = 0.0\n",
    "                self.move_cmd.angular.z = 0.5\n",
    "            else:\n",
    "                self.move_cmd.linear.x = 0.0\n",
    "                self.move_cmd.angular.z = -0.5\n",
    "        else:\n",
    "            self.move_cmd.linear.x = 0.2\n",
    "            self.move_cmd.angular.z = 0.0\n",
    "\n",
    "        self.cmd_vel_pub.publish(self.move_cmd)\n",
    "\n",
    "    def run(self):\n",
    "        while not rospy.is_shutdown():\n",
    "            self.rate.sleep()\n"
   ]
  },
  {
   "cell_type": "code",
   "execution_count": 4,
   "id": "4c5e3f78",
   "metadata": {},
   "outputs": [],
   "source": [
    "try:\n",
    "    robot = ObstacleAvoidance()\n",
    "    robot.run()\n",
    "except rospy.ROSInterruptException:\n",
    "    pass\n"
   ]
  },
  {
   "cell_type": "code",
   "execution_count": null,
   "id": "e55274a1",
   "metadata": {},
   "outputs": [
    {
     "name": "stderr",
     "output_type": "stream",
     "text": [
      "sudo: a terminal is required to read the password; either use the -S option to read from standard input or configure an askpass helper\n"
     ]
    },
    {
     "name": "stdout",
     "output_type": "stream",
     "text": [
      "Collecting ipywidgets\n",
      "  Downloading ipywidgets-8.1.6-py3-none-any.whl (139 kB)\n",
      "Requirement already satisfied: numpy in /usr/lib/python3/dist-packages (1.17.4)\n",
      "Requirement already satisfied: matplotlib in /usr/lib/python3/dist-packages (3.1.2)\n",
      "Collecting networkx\n",
      "  Downloading networkx-3.1-py3-none-any.whl (2.1 MB)\n",
      "Requirement already satisfied: comm>=0.1.3 in /home/saif/.local/lib/python3.8/site-packages (from ipywidgets) (0.2.2)\n",
      "Collecting widgetsnbextension~=4.0.14\n",
      "  Downloading widgetsnbextension-4.0.14-py3-none-any.whl (2.2 MB)\n"
     ]
    }
   ],
   "source": [
    "%%bash\n",
    "# [Cell 1] - Dependency Installation\n",
    "sudo apt-get install -y ros-noetic-gazebo-ros-pkgs \\\n",
    "    ros-noetic-turtlebot3 \\\n",
    "    ros-noetic-turtlebot3-simulations \\\n",
    "    python3-pip\n",
    "pip3 install ipywidgets numpy matplotlib networkx\n",
    "source /opt/ros/noetic/setup.bash"
   ]
  }
 ],
 "metadata": {
  "kernelspec": {
   "display_name": "Python 3",
   "language": "python",
   "name": "python3"
  },
  "language_info": {
   "codemirror_mode": {
    "name": "ipython",
    "version": 3
   },
   "file_extension": ".py",
   "mimetype": "text/x-python",
   "name": "python",
   "nbconvert_exporter": "python",
   "pygments_lexer": "ipython3",
   "version": "3.8.10"
  }
 },
 "nbformat": 4,
 "nbformat_minor": 5
}
